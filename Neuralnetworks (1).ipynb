{
  "nbformat": 4,
  "nbformat_minor": 0,
  "metadata": {
    "colab": {
      "provenance": []
    },
    "kernelspec": {
      "name": "python3",
      "display_name": "Python 3"
    },
    "language_info": {
      "name": "python"
    }
  },
  "cells": [
    {
      "cell_type": "code",
      "execution_count": null,
      "metadata": {
        "id": "lHkHA_cu5FYl"
      },
      "outputs": [],
      "source": [
        "#(a)Single layer perceptron with single output for Linear and Non-linear datasets and with bias and without bias\n"
      ]
    },
    {
      "cell_type": "code",
      "source": [
        "import pandas as pd\n",
        "import numpy as np"
      ],
      "metadata": {
        "id": "MfDExhJr6UgM"
      },
      "execution_count": null,
      "outputs": []
    },
    {
      "cell_type": "code",
      "source": [
        "#Single layer perceptron with single output for Linear and Non-linear datasets and with bias and without bias\n",
        "def single(x1,x2,bias=0,alpha=1,ttype='lin',w1=0,w2=0):\n",
        "  t = x1*x2 #AND operation\n",
        "  if(ttype=='lin'):\n",
        "    ttype='AND'\n",
        "  elif(ttype=='nonlin'):\n",
        "    ttype='XOR'\n",
        "\n",
        "\n",
        "  y=x1*w1+x2*w2+bias\n",
        "  if y>0:\n",
        "    yo=1\n",
        "  elif y<0:\n",
        "    yo=-1\n",
        "  else:\n",
        "    yo=0\n",
        "  t=findt(x1,x2,ttype)\n",
        "  if(yo==t):\n",
        "    return w1,w2,bias,t,yo\n",
        "\n",
        "  nw1=alpha*t*x1\n",
        "  nw2=alpha*t*x2\n",
        "  nb=alpha*t\n",
        "  w1,w2=(nw1+w1),(nw2+w2)\n",
        "  bias=bias+nb\n",
        "\n",
        "  return w1,w2,bias,t,yo\n",
        "\n",
        "def findt(x1,x2,ttype='AND'):\n",
        "  if ttype=='AND':\n",
        "    if x1==x2 and x1==1:\n",
        "      return 1\n",
        "    else:\n",
        "      return -1\n",
        "  elif ttype=='XOR':\n",
        "    if x1==x2:\n",
        "      return 0\n",
        "    else:\n",
        "      return 1\n",
        "\n",
        "\n"
      ],
      "metadata": {
        "id": "hfqaDwRf6c7z"
      },
      "execution_count": null,
      "outputs": []
    },
    {
      "cell_type": "code",
      "source": [
        "# Single layer perceptron with single output for Linear  and with bias\n",
        "B=0\n",
        "\n",
        "W1,W2,B,t1,yo=single(1,1,B,alpha=1,ttype='lin',w1=0,w2=0)\n",
        "print(W1,\" \",W2,\" \" , B)\n",
        "W1,W2,B,t2,yo=single(1,-1,B,alpha=1,ttype='lin',w1=W1,w2=W2)\n",
        "print(W1,\" \",W2,\" \" , B)\n",
        "W1,W2,B,t3,yo=single(-1,1,B,alpha=1,ttype='lin',w1=W1,w2=W2)\n",
        "print(W1,\" \",W2,\" \" , B)\n",
        "W1,W2,B,t4,yo=single(-1,-1,B,alpha=1,ttype='lin',w1=W1,w2=W2)\n",
        "print(W1,\" \",W2,\" \" , B)\n",
        "\n",
        "\n",
        "\n"
      ],
      "metadata": {
        "colab": {
          "base_uri": "https://localhost:8080/"
        },
        "id": "aExWFN86ASPj",
        "outputId": "ea12a205-0698-4f7d-dad0-592d00d6a2b9"
      },
      "execution_count": null,
      "outputs": [
        {
          "output_type": "stream",
          "name": "stdout",
          "text": [
            "1   1   1\n",
            "0   2   0\n",
            "1   1   -1\n",
            "1   1   -1\n"
          ]
        }
      ]
    },
    {
      "cell_type": "code",
      "source": [
        "#Single layer perceptron with single output for Linear and Non-linear datasets  without bias\n",
        "def singlenobias(x1,x2,alpha=1,ttype='lin',w1=0,w2=0):\n",
        "  t = x1*x2 #AND operation\n",
        "  if(ttype=='lin'):\n",
        "    ttype='AND'\n",
        "  elif(ttype=='nonlin'):\n",
        "    ttype='XOR'\n",
        "\n",
        "\n",
        "  y=x1*w1+x2*w2\n",
        "  if y>0:\n",
        "    yo=1\n",
        "  elif y<0:\n",
        "    yo=-1\n",
        "  else:\n",
        "    yo=0\n",
        "  t=findt(x1,x2,ttype)\n",
        "  if(yo==t):\n",
        "    return w1,w2,t,yo\n",
        "\n",
        "  nw1=alpha*t*x1\n",
        "  nw2=alpha*t*x2\n",
        "  w1,w2=(nw1+w1),(nw2+w2)\n",
        "\n",
        "  return w1,w2,t,yo\n",
        "\n",
        "def findt(x1,x2,ttype='AND'):\n",
        "  if ttype=='AND':\n",
        "    if x1==x2 and x1==1:\n",
        "      return 1\n",
        "    else:\n",
        "      return -1\n",
        "  elif ttype=='XOR':\n",
        "    if x1==x2:\n",
        "      return 0\n",
        "    else:\n",
        "      return 1\n",
        "\n",
        "\n"
      ],
      "metadata": {
        "id": "HCOCXcWV_N_3"
      },
      "execution_count": null,
      "outputs": []
    },
    {
      "cell_type": "code",
      "source": [
        "#Single layer perceptron for 4 inputs\n",
        "def single(x1,x2,x3,x4,bias=0,alpha=1,w1=0,w2=0,w3=0,w4=0,t=0):\n",
        "  y=x1*w1+x2*w2+x3*w3+x4*w4+bias\n",
        "  if y>0:\n",
        "    yo=1\n",
        "  elif y<0:\n",
        "    yo=-1\n",
        "  else:\n",
        "    yo=0\n",
        "\n",
        "  if(yo==t):\n",
        "\n",
        "    return w1,w2,w3,w4,bias,t,yo\n",
        "\n",
        "  nw1=alpha*t*x1\n",
        "  nw2=alpha*t*x2\n",
        "  nw3=alpha*t*x3\n",
        "  nw4=alpha*t*x4\n",
        "  nb=alpha*t\n",
        "  w1,w2,w3,w4=(nw1+w1),(nw2+w2),(nw3+w3),(nw4+w4)\n",
        "  bias=bias+nb\n",
        "\n",
        "  return w1,w2,w3,w4,bias,t,yo\n",
        "\n"
      ],
      "metadata": {
        "id": "VuocE4DQ28Tp"
      },
      "execution_count": null,
      "outputs": []
    },
    {
      "cell_type": "code",
      "source": [
        "# Single layer perceptron with 4 inputs\n",
        "B=0\n",
        "c=1\n",
        "W1=0\n",
        "W2=0\n",
        "w3=0\n",
        "w4=0\n",
        "t=0\n",
        "print(\"W1\",\" \",\"W2\",\" \" , \"w3\" ,\" \",\"w4\" ,\" \")\n",
        "while(c>0):\n",
        "  a=0\n",
        "  W1,W2,w3,w4,B,t1,yo=single(1,1,1,1,B,alpha=1,w1=W1,w2=W2,w3=w3,w4=w4,t=1)\n",
        "  print(W1,\" \",W2,\" \" , w3 ,\" \", w4 ,\" \" )\n",
        "  if t1==yo:\n",
        "    a+=1\n",
        "  W1,W2,w3,w4,B,t2,yo=single(-1,1,-1,-1,B,alpha=1,w1=W1,w2=W2,w3=w3,w4=w4,t=1)\n",
        "  print(W1,\" \",W2,\" \" , w3 ,\" \", w4)\n",
        "  if t2==yo:\n",
        "    a+=1\n",
        "  W1,W2,w3,w4,B,t3,yo=single(1,1,1,-1,B,alpha=1,w1=W1,w2=W2,w3=w3,w4=w4,t=-1)\n",
        "  print(W1,\" \",W2,\" \" , w3 ,\" \", w4)\n",
        "  if t3==yo:\n",
        "    a+=1\n",
        "  W1,W2,w3,w4,B,t4,yo=single(1,-1,-1,1,B,alpha=1,w1=W1,w2=W2,w3=w3,w4=w4,t=-1)\n",
        "  print(W1,\" \",W2,\" \" , w3 ,\" \", w4)\n",
        "  if t4==yo:\n",
        "    a+=1\n",
        "  if a==4:\n",
        "    print(\"No of Epoch are \",c)\n",
        "    c=0\n",
        "  else:\n",
        "    print(\".........................................\")\n",
        "    c+=1\n",
        "    a=0\n",
        "\n",
        "\n",
        "\n"
      ],
      "metadata": {
        "colab": {
          "base_uri": "https://localhost:8080/"
        },
        "id": "hWwGWng78wEV",
        "outputId": "9e4d202b-7302-4814-f4f4-4091de5892ab"
      },
      "execution_count": null,
      "outputs": [
        {
          "output_type": "stream",
          "name": "stdout",
          "text": [
            "W1   W2   w3   w4  \n",
            "1   1   1   1  \n",
            "0   2   0   0\n",
            "-1   1   -1   1\n",
            "-2   2   0   0\n",
            ".........................................\n",
            "-1   3   1   1  \n",
            "-1   3   1   1\n",
            "-2   2   0   2\n",
            "-2   2   0   2\n",
            ".........................................\n",
            "-2   2   0   2  \n",
            "-2   2   0   2\n",
            "-2   2   0   2\n",
            "-2   2   0   2\n",
            "No of Epoch are  3\n"
          ]
        }
      ]
    },
    {
      "cell_type": "code",
      "source": [
        "# Single layer perceptron with single output for Linear  and with bias\n",
        "# B=0\n",
        "# c=1\n",
        "# while(c>0 ):\n",
        "#   a=0\n",
        "#   W1,W2,B,t1,yo=single(1,1,B,alpha=1,ttype='lin',w1=0,w2=0)\n",
        "#   print(W1,\" \",W2,\" \" , B)\n",
        "#   if t1==yo:\n",
        "#     a+=1\n",
        "#   W1,W2,B,t2,yo=single(1,-1,B,alpha=1,ttype='lin',w1=W1,w2=W2)\n",
        "#   print(W1,\" \",W2,\" \" , B)\n",
        "#   if t2==yo:\n",
        "#     a+=1\n",
        "#   W1,W2,B,t3,yo=single(-1,1,B,alpha=1,ttype='lin',w1=W1,w2=W2)\n",
        "#   print(W1,\" \",W2,\" \" , B)\n",
        "#   if t3==yo:\n",
        "#     a+=1\n",
        "#   W1,W2,B,t4,yo=single(-1,-1,B,alpha=1,ttype='lin',w1=W1,w2=W2)\n",
        "#   print(W1,\" \",W2,\" \" , B)\n",
        "#   if t4==yo:\n",
        "#     a+=1\n",
        "#   if a==4:\n",
        "#     print(\"No of iterations are \",c)\n",
        "#     c=0\n",
        "#   else:\n",
        "#     c+=1\n",
        "\n",
        "\n",
        "\n"
      ],
      "metadata": {
        "id": "2C2D8P74zPHr"
      },
      "execution_count": null,
      "outputs": []
    },
    {
      "cell_type": "code",
      "source": [
        "# Single layer perceptron with single output for Linear  and without bias\n",
        "\n",
        "W1,W2,t,yo=singlenobias(1,1,alpha=1,ttype='lin',w1=0,w2=0)\n",
        "print(W1,\" \",W2,\" \" )\n",
        "if(t!=yo):\n",
        "  W1,W2,t,yo=singlenobias(1,-1,alpha=1,ttype='lin',w1=W1,w2=W2)\n",
        "print(W1,\" \",W2,\" \" )\n",
        "\n",
        "\n",
        "if(t!=yo):\n",
        "  W1,W2,t,yo=singlenobias(-1,1,alpha=1,ttype='lin',w1=W1,w2=W2)\n",
        "print(W1,\" \",W2,\" \" )\n",
        "\n",
        "if(t!=yo):\n",
        "  W1,W2,t,yo=singlenobias(-1,-1,alpha=1,ttype='lin',w1=W1,w2=W2)\n",
        "print(W1,\" \",W2,\" \")\n",
        "\n",
        "\n"
      ],
      "metadata": {
        "colab": {
          "base_uri": "https://localhost:8080/"
        },
        "id": "kFaSOjRXAzcb",
        "outputId": "3b20905f-3d32-4ebc-f3fa-b4f36c47800f"
      },
      "execution_count": null,
      "outputs": [
        {
          "output_type": "stream",
          "name": "stdout",
          "text": [
            "1   1  \n",
            "0   2  \n",
            "1   1  \n",
            "1   1  \n"
          ]
        }
      ]
    },
    {
      "cell_type": "code",
      "source": [
        "# # Single layer perceptron with single output for Non - Linear  and with bias\n",
        "# W1,W2,B,t,yo=single(1,1,0,alpha=1,ttype='nonlin',w1=0,w2=0)\n",
        "# print(W1,\" \",W2,\" \" , B)\n",
        "# if(t!=yo):\n",
        "#   W1,W2,B,t,yo=single(1,-1,B,alpha=1,ttype='nonlin',w1=W1,w2=W2)\n",
        "# print(W1,\" \",W2,\" \" , B)\n",
        "\n",
        "\n",
        "# if(t!=yo):\n",
        "#   W1,W2,B,t,yo=single(-1,1,B,alpha=1,ttype='nonlin',w1=W1,w2=W2)\n",
        "# # print(W1,\" \",W2,\" \" , B)\n",
        "\n",
        "# if(t!=yo):\n",
        "#   W1,W2,B,t,yo=single(-1,-1,B,alpha=1,ttype='nonlin',w1=W1,w2=W2)\n",
        "# print(W1,\" \",W2,\" \" , B)\n",
        "\n",
        "\n"
      ],
      "metadata": {
        "id": "A_MnxwKjC45z"
      },
      "execution_count": null,
      "outputs": []
    },
    {
      "cell_type": "code",
      "source": [
        "# Single layer perceptron with single output for Non - Linear  and without bias\n",
        "W1,W2,t,yo=singlenobias(1,1,alpha=1,ttype='nonlin',w1=0,w2=0)\n",
        "print(W1,\" \",W2,\" \" )\n",
        "if(t!=yo):\n",
        "  W1,W2,t,yo=singlenobias(1,-1,alpha=1,ttype='nonlin',w1=W1,w2=W2)\n",
        "print(W1,\" \",W2,\" \" )\n",
        "\n",
        "\n",
        "if(t!=yo):\n",
        "  W1,W2,t,yo=singlenobias(-1,1,alpha=1,ttype='nonlin',w1=W1,w2=W2)\n",
        "print(W1,\" \",W2,\" \" )\n",
        "\n",
        "if(t!=yo):\n",
        "  W1,W2,t,yo=singlenobias(-1,-1,alpha=1,ttype='nonlin',w1=W1,w2=W2)\n",
        "print(W1,\" \",W2,\" \")"
      ],
      "metadata": {
        "colab": {
          "base_uri": "https://localhost:8080/"
        },
        "id": "wUmHzu6lC-QS",
        "outputId": "12f8c02b-336a-40f9-bca1-ca0facedd9fc"
      },
      "execution_count": null,
      "outputs": [
        {
          "output_type": "stream",
          "name": "stdout",
          "text": [
            "0   0  \n",
            "0   0  \n",
            "0   0  \n",
            "0   0  \n"
          ]
        }
      ]
    },
    {
      "cell_type": "code",
      "source": [
        "# (b) Multi-layer perceptron with Single output without bias\n"
      ],
      "metadata": {
        "id": "kmVw0RxsDFbR"
      },
      "execution_count": null,
      "outputs": []
    },
    {
      "cell_type": "code",
      "source": [
        "def multi(x1,x2,w1,w2):\n",
        "  return (x1*w1+x2*w2)\n",
        "\n",
        "def f(a):\n",
        "  return (1/(1+np.exp(-a)))"
      ],
      "metadata": {
        "id": "bUVUW5ONJUOW"
      },
      "execution_count": null,
      "outputs": []
    },
    {
      "cell_type": "code",
      "source": [
        "#Data\n",
        "x1=0.35\n",
        "x2=0.9\n",
        "w13=0.1\n",
        "w23=0.8\n",
        "w14=0.4\n",
        "w24=0.6\n",
        "ya=0.5\n",
        "w35=0.3\n",
        "w45=0.9"
      ],
      "metadata": {
        "id": "hoEgF2VaKZbp"
      },
      "execution_count": null,
      "outputs": []
    },
    {
      "cell_type": "code",
      "source": [
        "#Hidden layer\n",
        "y3=multi(x1,x2,w13,w23)\n",
        "y4=multi(x1,x2,w14,w24)\n",
        "y3=f(y3)\n",
        "y4=f(y4)"
      ],
      "metadata": {
        "id": "z72GUQqdLVmj"
      },
      "execution_count": null,
      "outputs": []
    },
    {
      "cell_type": "code",
      "source": [
        "#output\n",
        "o5=multi(y3,y4,w35,w45)\n",
        "o5=f(o5)\n",
        "print(\"Output : \",o5)\n",
        "\n",
        "error=ya-o5\n",
        "print(\"Error : \",error)"
      ],
      "metadata": {
        "colab": {
          "base_uri": "https://localhost:8080/"
        },
        "id": "I_kHN6ncMDYX",
        "outputId": "4d5c5de0-1760-4cb5-fa87-73be49307a3e"
      },
      "execution_count": null,
      "outputs": [
        {
          "output_type": "stream",
          "name": "stdout",
          "text": [
            "Output :  0.6902834929076443\n",
            "Error :  -0.19028349290764435\n"
          ]
        }
      ]
    },
    {
      "cell_type": "code",
      "source": [
        "#(2)Backtracking for above problem"
      ],
      "metadata": {
        "id": "27eX2yhgMy9F"
      },
      "execution_count": null,
      "outputs": []
    },
    {
      "cell_type": "code",
      "source": [
        "def back(v,val,ya,outp,wei):\n",
        "  if v==1:\n",
        "    return (val*(1-val)*(ya-outp))\n",
        "  else:\n",
        "    return (val*(1-val)*(outp*wei))"
      ],
      "metadata": {
        "id": "JMW_nqXvM4uo"
      },
      "execution_count": null,
      "outputs": []
    },
    {
      "cell_type": "code",
      "source": [
        "S5=back(1,o5,ya,o5,wei=0)\n",
        "print(\"S5 :\",S5)\n",
        "S3=back(0,y3,ya,S5,wei=w35)\n",
        "print(\"S3 :\",S3)\n",
        "S4=back(0,y4,ya,S5,wei=w45)\n",
        "print(\"S4 :\",S4)\n"
      ],
      "metadata": {
        "colab": {
          "base_uri": "https://localhost:8080/"
        },
        "id": "mYVNGjTjN3hj",
        "outputId": "8042d863-9c50-4b7e-e22a-90c17e09c469"
      },
      "execution_count": null,
      "outputs": [
        {
          "output_type": "stream",
          "name": "stdout",
          "text": [
            "S5 : -0.04068112511233903\n",
            "S3 : -0.002654489030884742\n",
            "S4 : -0.00817164506412987\n"
          ]
        }
      ]
    },
    {
      "cell_type": "code",
      "source": [
        "#updating the new weights\n",
        "\n",
        "def newwei(s,y):\n",
        "  n=1\n",
        "  return n*s*y\n"
      ],
      "metadata": {
        "id": "nANuZtQmPES1"
      },
      "execution_count": null,
      "outputs": []
    },
    {
      "cell_type": "code",
      "source": [
        "w35=newwei(S5,y3)+w35\n",
        "w45=newwei(S5,y4)+w45\n",
        "print(\"new w35 : \",w35)\n",
        "print(\"new w45 : \",w45)\n",
        "w13=newwei(S3,x1)+w13\n",
        "w23=newwei(S3,x2)+w23\n",
        "print(\"new w13 : \",w13)\n",
        "print(\"new w23 : \",w23)\n",
        "w14=newwei(S4,x1)+w14\n",
        "w24=newwei(S4,x2)+w24\n",
        "print(\"new w14 : \",w14)\n",
        "print(\"new w24 : \",w24)"
      ],
      "metadata": {
        "colab": {
          "base_uri": "https://localhost:8080/"
        },
        "id": "IpUJpjgtYHMv",
        "outputId": "da128f42-0fcd-4b0d-e821-6d69a1a89bf9"
      },
      "execution_count": null,
      "outputs": [
        {
          "output_type": "stream",
          "name": "stdout",
          "text": [
            "new w35 :  0.27232596506128215\n",
            "new w45 :  0.8729983630089926\n",
            "new w13 :  0.09907092883919034\n",
            "new w23 :  0.7976109598722038\n",
            "new w14 :  0.39713992422755456\n",
            "new w24 :  0.592645519442283\n"
          ]
        }
      ]
    },
    {
      "cell_type": "code",
      "source": [
        "# (b) Multi-layer perceptron with Multiple output without bias"
      ],
      "metadata": {
        "id": "L2FWKY7KZbKr"
      },
      "execution_count": null,
      "outputs": []
    },
    {
      "cell_type": "code",
      "source": [
        "#Data\n",
        "x1=0.35\n",
        "x2=0.9\n",
        "w13=0.1\n",
        "w23=0.8\n",
        "w14=0.4\n",
        "w24=0.6\n",
        "ya=0.5\n",
        "w35=0.3\n",
        "w45=0.9\n",
        "w36=0.4\n",
        "w46=0.7"
      ],
      "metadata": {
        "id": "gbXo50vBbrmK"
      },
      "execution_count": null,
      "outputs": []
    },
    {
      "cell_type": "code",
      "source": [
        "#Hidden layer\n",
        "y3=multi(x1,x2,w13,w23)\n",
        "y4=multi(x1,x2,w14,w24)\n",
        "y3=f(y3)\n",
        "y4=f(y4)"
      ],
      "metadata": {
        "id": "NMKeT3F6b8fp"
      },
      "execution_count": null,
      "outputs": []
    },
    {
      "cell_type": "code",
      "source": [
        "#output\n",
        "o5=multi(y3,y4,w35,w45)\n",
        "o5=f(o5)\n",
        "print(\"Output : \",o5)\n",
        "\n",
        "error1=ya-o5\n",
        "print(\"Error for o5: \",error1)\n",
        "\n",
        "o6=multi(y3,y4,w36,w46)\n",
        "o6=f(o6)\n",
        "print(\"Output : \",o6)\n",
        "\n",
        "error2=ya-o6\n",
        "print(\"Error for o5: \",error2)"
      ],
      "metadata": {
        "colab": {
          "base_uri": "https://localhost:8080/"
        },
        "id": "z38ycS7gb-X4",
        "outputId": "38e44ac7-d8b7-47ed-c086-5daffae968e2"
      },
      "execution_count": null,
      "outputs": [
        {
          "output_type": "stream",
          "name": "stdout",
          "text": [
            "Output :  0.6902834929076443\n",
            "Error for o5:  -0.19028349290764435\n",
            "Output :  0.6762790630033958\n",
            "Error for o5:  -0.1762790630033958\n"
          ]
        }
      ]
    },
    {
      "cell_type": "code",
      "source": [
        "#Backtracking\n",
        "S6=back(1,o6,ya,o6,wei=0)\n",
        "print(\"S6 :\",S6)\n",
        "S5=back(1,o5,ya,o5,wei=0)\n",
        "print(\"S5 :\",S5)\n",
        "S3=back(0,y3,ya,S5,wei=w35)+back(0,y3,ya,S6,wei=w36)\n",
        "print(\"S3 :\",S3)\n",
        "S4=back(0,y4,ya,S5,wei=w45)+back(0,y3,ya,S6,wei=w46)\n",
        "print(\"S4 :\",S4)\n"
      ],
      "metadata": {
        "colab": {
          "base_uri": "https://localhost:8080/"
        },
        "id": "sawpJjk3cXY5",
        "outputId": "ca5a9152-67ec-4847-b0b6-e828967270c8"
      },
      "execution_count": null,
      "outputs": [
        {
          "output_type": "stream",
          "name": "stdout",
          "text": [
            "S6 : -0.038592015843724625\n",
            "S5 : -0.04068112511233903\n",
            "S3 : -0.006012052108897234\n",
            "S4 : -0.014047380450651728\n"
          ]
        }
      ]
    },
    {
      "cell_type": "code",
      "source": [
        "w35=newwei(S5,y3)+w35\n",
        "w45=newwei(S5,y4)+w45\n",
        "print(\"new w35 : \",w35)\n",
        "print(\"new w45 : \",w45)\n",
        "w36=newwei(S6,y3)+w36\n",
        "w46=newwei(S6,y4)+w46\n",
        "print(\"new w36 : \",w35)\n",
        "print(\"new w46 : \",w45)\n",
        "w13=newwei(S3,x1)+w13\n",
        "w23=newwei(S3,x2)+w23\n",
        "print(\"new w13 : \",w13)\n",
        "print(\"new w23 : \",w23)\n",
        "w14=newwei(S4,x1)+w14\n",
        "w24=newwei(S4,x2)+w24\n",
        "print(\"new w14 : \",w14)\n",
        "print(\"new w24 : \",w24)"
      ],
      "metadata": {
        "colab": {
          "base_uri": "https://localhost:8080/"
        },
        "id": "xD84E0yUc0xT",
        "outputId": "db6cd518-2d99-45b8-c1b6-20be89d33ed1"
      },
      "execution_count": null,
      "outputs": [
        {
          "output_type": "stream",
          "name": "stdout",
          "text": [
            "new w35 :  0.27232596506128215\n",
            "new w45 :  0.8729983630089926\n",
            "new w36 :  0.27232596506128215\n",
            "new w46 :  0.8729983630089926\n",
            "new w13 :  0.09789578176188597\n",
            "new w23 :  0.7945891531019925\n",
            "new w14 :  0.39508341684227194\n",
            "new w24 :  0.5873573575944134\n"
          ]
        }
      ]
    },
    {
      "cell_type": "code",
      "source": [
        "#........................................................................."
      ],
      "metadata": {
        "id": "2MQM034NMQIi"
      },
      "execution_count": null,
      "outputs": []
    },
    {
      "cell_type": "code",
      "source": [
        "# import numpy as np\n",
        "# from keras.models import Sequential\n",
        "# from keras.layers import Dense, Dropout\n",
        "# from keras.utils import to_categorical\n",
        "# from keras.datasets import mnist\n",
        "\n",
        "# # Load MNIST dataset\n",
        "# (X_train, y_train), (X_test, y_test) = mnist.load_data()\n",
        "\n",
        "# # Reshape and normalize the data\n",
        "# X_train = X_train.reshape(X_train.shape[0], 784)\n",
        "# X_test = X_test.reshape(X_test.shape[0], 784)\n",
        "# X_train = X_train.astype('float32')\n",
        "# X_test = X_test.astype('float32')\n",
        "# X_train /= 255\n",
        "# X_test /= 255\n",
        "\n",
        "# # Convert class vectors to binary class matrices\n",
        "# y_train = to_categorical(y_train, 10)\n",
        "# y_test = to_categorical(y_test, 10)\n",
        "\n",
        "# # Define the neural network model\n",
        "# model = Sequential()\n",
        "# model.add(Dense(100, activation='relu', input_shape=(784,)))\n",
        "# model.add(Dropout(0.2))\n",
        "# model.add(Dense(100, activation='relu'))\n",
        "# model.add(Dropout(0.2))\n",
        "# model.add(Dense(10, activation='softmax'))\n",
        "\n",
        "# # Compile the model\n",
        "# model.compile(loss='categorical_crossentropy', optimizer='adam', metrics=['accuracy'])\n",
        "\n",
        "# # Train the model\n",
        "# model.fit(X_train, y_train, batch_size=128, epochs=10, verbose=1)\n",
        "\n",
        "# # Evaluate the model\n",
        "# score = model.evaluate(X_test, y_test, verbose=0)\n",
        "# print('Test loss:', score[0])\n",
        "# print('Test accuracy:', score[1])"
      ],
      "metadata": {
        "id": "AzeYmjX6pAxJ"
      },
      "execution_count": null,
      "outputs": []
    },
    {
      "cell_type": "code",
      "source": [
        "# import cv2\n",
        "# import numpy as np\n",
        "\n",
        "# # Load the image\n",
        "# img = cv2.imread('/content/five.jpg', cv2.IMREAD_GRAYSCALE)\n",
        "\n",
        "# # Resize the image to 28x28\n",
        "# img = cv2.resize(img, (28, 28))\n",
        "\n",
        "# # Normalize the pixel values\n",
        "# img = img / 255.0\n",
        "\n",
        "# # Convert the image to a numpy array\n",
        "# img_array = np.array(img)\n",
        "\n",
        "# # Reshape the array to match the model's input shape\n",
        "# img_array = img_array.reshape((1, 28, 28, 1))\n",
        "# img_array = img_array.reshape((1, 784))  # flatten the image\n",
        "\n",
        "# # Use the model to make a prediction\n",
        "# prediction = model.predict(img_array)\n",
        "\n",
        "# # Get the predicted digit\n",
        "# predicted_digit = np.argmax(prediction)\n",
        "\n",
        "# print(\"Predicted digit:\", predicted_digit)"
      ],
      "metadata": {
        "id": "tXYiRmbZpYf0"
      },
      "execution_count": null,
      "outputs": []
    },
    {
      "cell_type": "code",
      "source": [
        "# import cv2\n",
        "# import numpy as np\n",
        "\n",
        "# # Load the image\n",
        "# img = cv2.imread('/content/eight.jpg', cv2.IMREAD_GRAYSCALE)\n",
        "\n",
        "# # Resize the image to 28x28\n",
        "# img = cv2.resize(img, (28, 28))\n",
        "\n",
        "# # Normalize the pixel values\n",
        "# img = img / 255.0\n",
        "\n",
        "# # Convert the image to a numpy array\n",
        "# img_array = np.array(img)\n",
        "\n",
        "# # Reshape the array to match the model's input shape\n",
        "# img_array = img_array.reshape((1, 784))\n",
        "\n",
        "# # Use the model to make a prediction\n",
        "# prediction = model.predict(img_array)\n",
        "\n",
        "# # Get the predicted digit\n",
        "# predicted_digit = np.argmax(prediction)\n",
        "\n",
        "# print(\"Predicted digit:\", predicted_digit)"
      ],
      "metadata": {
        "id": "3-c_OqCsq2ZH"
      },
      "execution_count": null,
      "outputs": []
    },
    {
      "cell_type": "code",
      "source": [
        "# import numpy as np\n",
        "# import matplotlib.pyplot as plt\n",
        "# from sklearn.datasets import fetch_openml\n",
        "# from sklearn.model_selection import train_test_split\n",
        "# from keras.models import Sequential\n",
        "# from keras.layers import Dense, Dropout\n",
        "\n",
        "# # Download the EMNIST letters dataset\n",
        "# emnist = fetch_openml('emnist-letters')\n",
        "\n",
        "# # Reshape the data\n",
        "# X = emnist.data.reshape(emnist.data.shape[0], 28, 28)\n",
        "# y = emnist.target\n",
        "\n",
        "# # Convert the labels to categorical\n",
        "# y = np.array([ord(c) - 65 for c in y])  # Convert to uppercase letter indices (A=0, B=1, ..., Z=25)\n",
        "# y = to_categorical(y, 26)\n",
        "\n",
        "# # Split the data into training and testing sets\n",
        "# # X_train, X_test, y_train, y_test = train_test_split(X, y, test_size=0.2, random_state=42)\n",
        "\n",
        "# # Normalize the data\n",
        "# X_train = X_train.astype('float32') / 255\n",
        "# X_test = X_test.astype('float32') / 255\n",
        "\n",
        "# # Define the neural network model\n",
        "# model = Sequential()\n",
        "# model.add(Dense(100, activation='relu', input_shape=(784,)))\n",
        "# model.add(Dropout(0.2))\n",
        "# model.add(Dense(100, activation='relu'))\n",
        "# model.add(Dropout(0.2))\n",
        "# model.add(Dense(26, activation='softmax'))\n",
        "\n",
        "# # Compile the model\n",
        "# model.compile(loss='categorical_crossentropy', optimizer='adam', metrics=['accuracy'])\n",
        "\n",
        "# # Train the model\n",
        "# model.fit(X_train.reshape(X_train.shape[0], 784), y_train, batch_size=128, epochs=10, verbose=1)\n",
        "\n",
        "# # Evaluate the model\n",
        "# score = model.evaluate(X_test.reshape(X_test.shape[0], 784), y_test, verbose=0)\n",
        "# print('Test loss:', score[0])\n",
        "# print('Test accuracy:', score[1])"
      ],
      "metadata": {
        "id": "C2SeUoUVt-yk"
      },
      "execution_count": null,
      "outputs": []
    }
  ]
}