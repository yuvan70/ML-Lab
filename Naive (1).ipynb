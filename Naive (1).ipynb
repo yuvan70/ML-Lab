{
  "nbformat": 4,
  "nbformat_minor": 0,
  "metadata": {
    "colab": {
      "provenance": []
    },
    "kernelspec": {
      "name": "python3",
      "display_name": "Python 3"
    },
    "language_info": {
      "name": "python"
    }
  },
  "cells": [
    {
      "cell_type": "code",
      "source": [
        "import pandas as pd\n",
        "from sklearn.model_selection import train_test_split\n",
        "from sklearn.naive_bayes import GaussianNB, MultinomialNB, BernoulliNB\n",
        "from sklearn.metrics import confusion_matrix\n",
        "\n",
        "# Load the dataset\n",
        "df = pd.read_csv('/content/weather_forecast_data.csv')\n",
        "df = pd.DataFrame(df)\n",
        "print(\"Columns in dataset:\", df.columns)  # Check column names\n",
        "print(df.head())\n",
        "\n",
        "# Create a frequency table\n",
        "freq_table = pd.crosstab(index=df['Rain'], columns=[df[col] for col in ['Temperature', 'Humidity', 'Wind_Speed']])\n",
        "print(\"Frequency Table:\")\n",
        "print(freq_table)\n",
        "\n",
        "# Define features (X) and target (y)\n",
        "X = df[['Temperature', 'Humidity', 'Wind_Speed']]\n",
        "y = df['Rain']\n",
        "\n",
        "# Convert categorical features to numerical using one-hot encoding\n",
        "X = pd.get_dummies(X)\n",
        "\n",
        "# Split data into training and testing sets\n",
        "X_train, X_test, y_train, y_test = train_test_split(X, y, test_size=0.4, random_state=42)\n",
        "\n",
        "# Gaussian Naive Bayes\n",
        "gnb = GaussianNB()\n",
        "gnb.fit(X_train, y_train)\n",
        "y_pred_gnb = gnb.predict(X_test)\n",
        "cm_gnb = confusion_matrix(y_test, y_pred_gnb)\n",
        "print(\"\\nGaussian NB Confusion Matrix:\")\n",
        "print(cm_gnb)\n",
        "\n",
        "# Multinomial Naive Bayes\n",
        "mnb = MultinomialNB()\n",
        "mnb.fit(X_train, y_train)\n",
        "y_pred_mnb = mnb.predict(X_test)\n",
        "cm_mnb = confusion_matrix(y_test, y_pred_mnb)\n",
        "print(\"\\nMultinomial NB Confusion Matrix:\")\n",
        "print(cm_mnb)\n",
        "\n",
        "# Bernoulli Naive Bayes\n",
        "bnb = BernoulliNB()\n",
        "bnb.fit(X_train, y_train)\n",
        "y_pred_bnb = bnb.predict(X_test)\n",
        "cm_bnb = confusion_matrix(y_test, y_pred_bnb)\n",
        "print(\"\\nBernoulli NB Confusion Matrix:\")\n",
        "print(cm_bnb)\n"
      ],
      "metadata": {
        "colab": {
          "base_uri": "https://localhost:8080/"
        },
        "id": "ONvVvH3TeaeN",
        "outputId": "cb1a861f-8429-413e-c60b-b85120580009"
      },
      "execution_count": null,
      "outputs": [
        {
          "output_type": "stream",
          "name": "stdout",
          "text": [
            "Columns in dataset: Index(['Temperature', 'Humidity', 'Wind_Speed', 'Rain'], dtype='object')\n",
            "   Temperature   Humidity  Wind_Speed     Rain\n",
            "0    23.720338  89.592641    7.335604     rain\n",
            "1    27.879734  46.489704    5.952484  no rain\n",
            "2    25.069084  83.072843    1.371992  no rain\n",
            "3    23.622080  74.367758    7.050551     rain\n",
            "4    20.591370  96.858822    4.643921  no rain\n",
            "Frequency Table:\n",
            "Temperature 10.001842 10.009184 10.013649 10.016605 10.022582 10.034584  \\\n",
            "Humidity    78.251648 93.654758 60.179152 83.991168 90.271361 52.140437   \n",
            "Wind_Speed  4.980841  15.520613 8.617368  4.740651  3.426289  1.912905    \n",
            "Rain                                                                      \n",
            "no rain             1         1         1         0         0         1   \n",
            "rain                0         0         0         1         1         0   \n",
            "\n",
            "Temperature 10.039864 10.051616 10.067580 10.092744  ... 34.902511 34.949056  \\\n",
            "Humidity    58.689035 30.573940 70.450461 66.191638  ... 81.309574 49.239108   \n",
            "Wind_Speed  2.646120  9.517521  11.650425 6.093093   ... 19.432382 7.617067    \n",
            "Rain                                                 ...                       \n",
            "no rain             1         1         1         1  ...         1         1   \n",
            "rain                0         0         0         0  ...         0         0   \n",
            "\n",
            "Temperature 34.949850 34.950570 34.954974 34.958872 34.963164 34.971175  \\\n",
            "Humidity    43.853532 66.170093 69.589119 59.862584 75.527422 48.153906   \n",
            "Wind_Speed  15.579345 13.764338 8.088582  0.726087  6.801734  0.327403    \n",
            "Rain                                                                      \n",
            "no rain             1         1         1         1         1         1   \n",
            "rain                0         0         0         0         0         0   \n",
            "\n",
            "Temperature 34.981950 34.995214  \n",
            "Humidity    49.165518 43.871165  \n",
            "Wind_Speed  2.549742  5.182590   \n",
            "Rain                             \n",
            "no rain             1         1  \n",
            "rain                0         0  \n",
            "\n",
            "[2 rows x 2500 columns]\n",
            "\n",
            "Gaussian NB Confusion Matrix:\n",
            "[[809  72]\n",
            " [ 56  63]]\n",
            "\n",
            "Multinomial NB Confusion Matrix:\n",
            "[[755 126]\n",
            " [ 40  79]]\n",
            "\n",
            "Bernoulli NB Confusion Matrix:\n",
            "[[881   0]\n",
            " [119   0]]\n"
          ]
        }
      ]
    }
  ]
}